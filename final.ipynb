{
 "cells": [
  {
   "cell_type": "code",
   "execution_count": 38,
   "metadata": {},
   "outputs": [],
   "source": [
    "# Imports, functions and Pixel class\n",
    "\n",
    "from PIL import Image, ImageDraw\n",
    "import math\n",
    "\n",
    "\n",
    "def floor_to_step(value, step):\n",
    "    return (value // step) * step\n",
    "\n",
    "\n",
    "def ceil_to_step(value, step):\n",
    "    return math.ceil(value / step) * step\n",
    "\n",
    "\n",
    "def common_divisors(a, b):\n",
    "    return [i for i in range(1, min(a, b) + 1) if a % i == b % i == 0]\n",
    "\n",
    "\n",
    "def find_all_common_denominators(num1, num2):\n",
    "    common_denominators = []\n",
    "    for i in range(1, min(num1, num2) + 1):\n",
    "        if num1 % i == num2 % i == 0:\n",
    "            common_denominators.append(i)\n",
    "    return common_denominators\n",
    "\n",
    "class Pixel:\n",
    "    def __init__(self, pixel_size, r, g, b):\n",
    "        if pixel_size < 4:\n",
    "            raise ValueError(\"Pixel size must be at least 4\")\n",
    "\n",
    "        self.light_part_size = pixel_size - 1\n",
    "        self.color = [r, g, b]\n",
    "\n",
    "        # horizontal position\n",
    "        self.red_start = 0\n",
    "        self.red_width = self.light_part_size // 3\n",
    "        self.green_start = self.red_width\n",
    "        self.green_width = self.light_part_size // 3\n",
    "        self.blue_start = self.green_start + self.green_width\n",
    "        self.blue_width = self.light_part_size // 3\n",
    "        if self.red_width + self.green_width + self.blue_width < pixel_size:\n",
    "            self.blue_width = self.light_part_size - (self.red_width + self.green_width)\n",
    "\n",
    "    def stamp_pixel(self, dst_image, x_dst, y_dst):\n",
    "        for y in range(self.light_part_size):\n",
    "            for r in range(self.red_start, self.red_width):\n",
    "                dst_image.putpixel((x_dst + r, y_dst + y), (self.color[0], 0, 0))\n",
    "            for g in range(self.green_start, self.green_start + self.green_width):\n",
    "                dst_image.putpixel((x_dst + g, y_dst + y), (0, self.color[1], 0))\n",
    "            for b in range(self.blue_start, self.blue_start + self.blue_width):\n",
    "                dst_image.putpixel((x_dst + b, y_dst + y), (0, 0, self.color[2]))"
   ]
  },
  {
   "cell_type": "code",
   "execution_count": 39,
   "metadata": {},
   "outputs": [],
   "source": [
    "# Load source image\n",
    "\n",
    "# iPhone 15 Pro Max\n",
    "# source_img = Image.open(\"Frame 1.jpg\")\n",
    "# source_img = Image.open(\"Frame 3.jpg\")\n",
    "# source_img = Image.open(\"Frame 8.jpg\")\n",
    "# source_img = Image.open(\"Frame 4.jpg\")\n",
    "# source_img = Image.new(\"RGB\", (1290, 2796), (255, 255, 255))\n",
    "\n",
    "# iPhone 15 Pro\n",
    "# source_img = Image.open(\"image 2.jpg\")\n",
    "\n",
    "# iPad Air 2020\n",
    "# source_img = Image.open(\"Frame 13.jpg\")\n",
    "\n",
    "# FullHD\n",
    "# source_img = Image.open(\"Frame 12.jpg\")\n",
    "# source_img = Image.open(\"img19_1920x1200.jpg\")\n",
    "source_img = Image.new(\"RGB\", (1920, 1080), (255, 255, 255))\n",
    "\n",
    "# Other\n",
    "# source_img = Image.open(\"lisa.jpg\")\n",
    "# source_img = Image.open(\"Z0HYLzP.png\")\n",
    "# source_img = Image.open(\"unknown.png\")\n",
    "# source_img = Image.open(\"jurzyk_shocked-removebg-preview.png\")\n",
    "# source_img = Image.open(\"lisa.jpg\")\n",
    "# source_img = Image.open(\"olenka.png\")\n",
    "\n",
    "# convert source image to RGB\n",
    "source_img = source_img.convert(\"RGB\")"
   ]
  },
  {
   "cell_type": "code",
   "execution_count": 40,
   "metadata": {},
   "outputs": [
    {
     "name": "stdout",
     "output_type": "stream",
     "text": [
      "all common denominators: [1, 2, 3, 4, 5, 6, 8, 10, 12, 15, 20, 24, 30, 40, 60, 120]\n"
     ]
    }
   ],
   "source": [
    "# Variables - dimensions must be the same as the uploaded photo\n",
    "\n",
    "# Automatic\n",
    "width = source_img.width\n",
    "height = source_img.height\n",
    "\n",
    "# iPhone 15 Pro Max\n",
    "# width = 1290\n",
    "# height = 2796\n",
    "\n",
    "# iPhone 15 Pro\n",
    "# width = 1179\n",
    "# height = 2556\n",
    "\n",
    "# iPad Air 2020\n",
    "# width = 2360\n",
    "# height = 1640\n",
    "\n",
    "# FullHD\n",
    "# width = 1920\n",
    "# height = 1080\n",
    "\n",
    "# Other\n",
    "# width = 456\n",
    "# height = 480\n",
    "\n",
    "print(f\"all common denominators: {find_all_common_denominators(width, height)}\")"
   ]
  },
  {
   "cell_type": "code",
   "execution_count": 41,
   "metadata": {},
   "outputs": [
    {
     "name": "stdout",
     "output_type": "stream",
     "text": [
      "single_pixel_size: 4\n"
     ]
    }
   ],
   "source": [
    "# Choose the pixel size from the above list\n",
    "# preferred pixel sizes: 4, 7, 16, ... -> any number that (number - 1) % 3 == 0\n",
    "single_pixel_size = 4\n",
    "print(f\"single_pixel_size: {single_pixel_size}\")"
   ]
  },
  {
   "cell_type": "code",
   "execution_count": 42,
   "metadata": {},
   "outputs": [
    {
     "name": "stdout",
     "output_type": "stream",
     "text": [
      "single_pixel_size: 4\n",
      "width: 1920, height: 1080\n",
      "new_width: 480, new_height: 270\n",
      "new_width * single_pixel_size: 1920, new_height * single_pixel_size: 1080\n",
      "rescaled_image.size: (1920, 1080)\n"
     ]
    }
   ],
   "source": [
    "# Main loop - creating new pixels and stamping them on the new image\n",
    "\n",
    "output_img = Image.new(\"RGB\", (width, height), (0, 0, 0))\n",
    "new_height = height // single_pixel_size\n",
    "new_width = width // single_pixel_size\n",
    "\n",
    "print(f\"single_pixel_size: {single_pixel_size}\")\n",
    "print(f\"width: {width}, height: {height}\")\n",
    "print(f\"new_width: {new_width}, new_height: {new_height}\")\n",
    "print(\n",
    "    f\"new_width * single_pixel_size: {new_width * single_pixel_size}, new_height * single_pixel_size: {new_height * single_pixel_size}\"\n",
    ")\n",
    "\n",
    "# loop with the step of the common denominator\n",
    "pixels = []\n",
    "for y in range(new_height):\n",
    "    for x in range(new_width):\n",
    "        pixels.append(\n",
    "            Pixel(\n",
    "                single_pixel_size,\n",
    "                *source_img.getpixel((x * single_pixel_size, y * single_pixel_size)),\n",
    "            )\n",
    "        )\n",
    "\n",
    "# on the normal scaled image put big pixels\n",
    "for y in range(new_height):\n",
    "    for x in range(new_width):\n",
    "        pixels[y * new_width + x].stamp_pixel(\n",
    "            output_img, x * single_pixel_size, y * single_pixel_size\n",
    "        )\n",
    "\n",
    "output_img.save(\"wallpaper\\output_image.png\")  # Zapisz obrazek\n",
    "print(f\"rescaled_image.size: {output_img.size}\")"
   ]
  }
 ],
 "metadata": {
  "kernelspec": {
   "display_name": "Python 3",
   "language": "python",
   "name": "python3"
  },
  "language_info": {
   "codemirror_mode": {
    "name": "ipython",
    "version": 3
   },
   "file_extension": ".py",
   "mimetype": "text/x-python",
   "name": "python",
   "nbconvert_exporter": "python",
   "pygments_lexer": "ipython3",
   "version": "3.11.0"
  }
 },
 "nbformat": 4,
 "nbformat_minor": 2
}
